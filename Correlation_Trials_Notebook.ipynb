{
 "cells": [
  {
   "cell_type": "code",
   "execution_count": 3,
   "id": "8836c121",
   "metadata": {
    "scrolled": true
   },
   "outputs": [
    {
     "name": "stdout",
     "output_type": "stream",
     "text": [
      "Requirement already satisfied: matplotlib in c:\\users\\molly\\appdata\\local\\programs\\python\\python310\\lib\\site-packages (3.5.1)Note: you may need to restart the kernel to use updated packages.\n",
      "Requirement already satisfied: pillow>=6.2.0 in c:\\users\\molly\\appdata\\local\\programs\\python\\python310\\lib\\site-packages (from matplotlib) (9.0.0)\n",
      "Requirement already satisfied: python-dateutil>=2.7 in c:\\users\\molly\\appdata\\local\\programs\\python\\python310\\lib\\site-packages (from matplotlib) (2.8.2)\n",
      "Requirement already satisfied: kiwisolver>=1.0.1 in c:\\users\\molly\\appdata\\local\\programs\\python\\python310\\lib\\site-packages (from matplotlib) (1.3.2)\n",
      "Requirement already satisfied: packaging>=20.0 in c:\\users\\molly\\appdata\\local\\programs\\python\\python310\\lib\\site-packages (from matplotlib) (21.3)\n",
      "Requirement already satisfied: pyparsing>=2.2.1 in c:\\users\\molly\\appdata\\local\\programs\\python\\python310\\lib\\site-packages (from matplotlib) (3.0.7)\n",
      "Requirement already satisfied: cycler>=0.10 in c:\\users\\molly\\appdata\\local\\programs\\python\\python310\\lib\\site-packages (from matplotlib) (0.11.0)\n",
      "Requirement already satisfied: numpy>=1.17 in c:\\users\\molly\\appdata\\local\\programs\\python\\python310\\lib\\site-packages (from matplotlib) (1.22.1)\n",
      "Requirement already satisfied: fonttools>=4.22.0 in c:\\users\\molly\\appdata\\local\\programs\\python\\python310\\lib\\site-packages (from matplotlib) (4.29.1)\n",
      "Requirement already satisfied: six>=1.5 in c:\\users\\molly\\appdata\\local\\programs\\python\\python310\\lib\\site-packages (from python-dateutil>=2.7->matplotlib) (1.16.0)\n",
      "\n"
     ]
    },
    {
     "name": "stderr",
     "output_type": "stream",
     "text": [
      "WARNING: You are using pip version 21.2.4; however, version 21.3.1 is available.\n",
      "You should consider upgrading via the 'C:\\Users\\molly\\AppData\\Local\\Programs\\Python\\Python310\\python.exe -m pip install --upgrade pip' command.\n"
     ]
    }
   ],
   "source": [
    "pip install matplotlib"
   ]
  },
  {
   "cell_type": "code",
   "execution_count": 6,
   "id": "7a7c564b",
   "metadata": {},
   "outputs": [
    {
     "name": "stdout",
     "output_type": "stream",
     "text": [
      "Requirement already satisfied: pandas in c:\\users\\molly\\appdata\\local\\programs\\python\\python310\\lib\\site-packages (1.4.0)\n",
      "Requirement already satisfied: numpy>=1.21.0 in c:\\users\\molly\\appdata\\local\\programs\\python\\python310\\lib\\site-packages (from pandas) (1.22.1)\n",
      "Requirement already satisfied: python-dateutil>=2.8.1 in c:\\users\\molly\\appdata\\local\\programs\\python\\python310\\lib\\site-packages (from pandas) (2.8.2)\n",
      "Requirement already satisfied: pytz>=2020.1 in c:\\users\\molly\\appdata\\local\\programs\\python\\python310\\lib\\site-packages (from pandas) (2021.3)\n",
      "Requirement already satisfied: six>=1.5 in c:\\users\\molly\\appdata\\local\\programs\\python\\python310\\lib\\site-packages (from python-dateutil>=2.8.1->pandas) (1.16.0)\n",
      "Note: you may need to restart the kernel to use updated packages.\n"
     ]
    },
    {
     "name": "stderr",
     "output_type": "stream",
     "text": [
      "WARNING: You are using pip version 21.2.4; however, version 21.3.1 is available.\n",
      "You should consider upgrading via the 'C:\\Users\\molly\\AppData\\Local\\Programs\\Python\\Python310\\python.exe -m pip install --upgrade pip' command.\n"
     ]
    }
   ],
   "source": [
    "pip install pandas"
   ]
  },
  {
   "cell_type": "code",
   "execution_count": 7,
   "id": "d7eb75fd",
   "metadata": {},
   "outputs": [
    {
     "name": "stdout",
     "output_type": "stream",
     "text": [
      "Collecting scipy\n",
      "  Using cached scipy-1.7.3-cp310-cp310-win_amd64.whl (34.3 MB)\n",
      "Requirement already satisfied: numpy<1.23.0,>=1.16.5 in c:\\users\\molly\\appdata\\local\\programs\\python\\python310\\lib\\site-packages (from scipy) (1.22.1)\n",
      "Installing collected packages: scipy\n",
      "Successfully installed scipy-1.7.3\n",
      "Note: you may need to restart the kernel to use updated packages.\n"
     ]
    },
    {
     "name": "stderr",
     "output_type": "stream",
     "text": [
      "WARNING: You are using pip version 21.2.4; however, version 21.3.1 is available.\n",
      "You should consider upgrading via the 'C:\\Users\\molly\\AppData\\Local\\Programs\\Python\\Python310\\python.exe -m pip install --upgrade pip' command.\n"
     ]
    }
   ],
   "source": [
    "pip install scipy"
   ]
  },
  {
   "cell_type": "code",
   "execution_count": 60,
   "id": "c85d56b2",
   "metadata": {},
   "outputs": [],
   "source": [
    "import numpy as np\n",
    "import matplotlib \n",
    "import pandas as pd\n",
    "import matplotlib.pyplot as plt\n",
    "from scipy.stats import pearsonr, spearmanr"
   ]
  },
  {
   "cell_type": "code",
   "execution_count": 9,
   "id": "b4d1f147",
   "metadata": {},
   "outputs": [
    {
     "data": {
      "text/html": [
       "<div>\n",
       "<style scoped>\n",
       "    .dataframe tbody tr th:only-of-type {\n",
       "        vertical-align: middle;\n",
       "    }\n",
       "\n",
       "    .dataframe tbody tr th {\n",
       "        vertical-align: top;\n",
       "    }\n",
       "\n",
       "    .dataframe thead th {\n",
       "        text-align: right;\n",
       "    }\n",
       "</style>\n",
       "<table border=\"1\" class=\"dataframe\">\n",
       "  <thead>\n",
       "    <tr style=\"text-align: right;\">\n",
       "      <th></th>\n",
       "      <th>ID</th>\n",
       "      <th>Reason for absence</th>\n",
       "      <th>Month of absence</th>\n",
       "      <th>Day of the week</th>\n",
       "      <th>Seasons</th>\n",
       "      <th>Transportation expense</th>\n",
       "      <th>Distance from Residence to Work</th>\n",
       "      <th>Service time</th>\n",
       "      <th>Age</th>\n",
       "      <th>Work load Average/day</th>\n",
       "      <th>...</th>\n",
       "      <th>Disciplinary failure</th>\n",
       "      <th>Education</th>\n",
       "      <th>Son</th>\n",
       "      <th>Social drinker</th>\n",
       "      <th>Social smoker</th>\n",
       "      <th>Pet</th>\n",
       "      <th>Weight</th>\n",
       "      <th>Height</th>\n",
       "      <th>Body mass index</th>\n",
       "      <th>Absenteeism time in hours</th>\n",
       "    </tr>\n",
       "  </thead>\n",
       "  <tbody>\n",
       "    <tr>\n",
       "      <th>0</th>\n",
       "      <td>11</td>\n",
       "      <td>26</td>\n",
       "      <td>7</td>\n",
       "      <td>3</td>\n",
       "      <td>1</td>\n",
       "      <td>289</td>\n",
       "      <td>36</td>\n",
       "      <td>13</td>\n",
       "      <td>33</td>\n",
       "      <td>239.554</td>\n",
       "      <td>...</td>\n",
       "      <td>0</td>\n",
       "      <td>1</td>\n",
       "      <td>2</td>\n",
       "      <td>1</td>\n",
       "      <td>0</td>\n",
       "      <td>1</td>\n",
       "      <td>90</td>\n",
       "      <td>172</td>\n",
       "      <td>30</td>\n",
       "      <td>4</td>\n",
       "    </tr>\n",
       "    <tr>\n",
       "      <th>1</th>\n",
       "      <td>36</td>\n",
       "      <td>0</td>\n",
       "      <td>7</td>\n",
       "      <td>3</td>\n",
       "      <td>1</td>\n",
       "      <td>118</td>\n",
       "      <td>13</td>\n",
       "      <td>18</td>\n",
       "      <td>50</td>\n",
       "      <td>239.554</td>\n",
       "      <td>...</td>\n",
       "      <td>1</td>\n",
       "      <td>1</td>\n",
       "      <td>1</td>\n",
       "      <td>1</td>\n",
       "      <td>0</td>\n",
       "      <td>0</td>\n",
       "      <td>98</td>\n",
       "      <td>178</td>\n",
       "      <td>31</td>\n",
       "      <td>0</td>\n",
       "    </tr>\n",
       "    <tr>\n",
       "      <th>2</th>\n",
       "      <td>3</td>\n",
       "      <td>23</td>\n",
       "      <td>7</td>\n",
       "      <td>4</td>\n",
       "      <td>1</td>\n",
       "      <td>179</td>\n",
       "      <td>51</td>\n",
       "      <td>18</td>\n",
       "      <td>38</td>\n",
       "      <td>239.554</td>\n",
       "      <td>...</td>\n",
       "      <td>0</td>\n",
       "      <td>1</td>\n",
       "      <td>0</td>\n",
       "      <td>1</td>\n",
       "      <td>0</td>\n",
       "      <td>0</td>\n",
       "      <td>89</td>\n",
       "      <td>170</td>\n",
       "      <td>31</td>\n",
       "      <td>2</td>\n",
       "    </tr>\n",
       "    <tr>\n",
       "      <th>3</th>\n",
       "      <td>7</td>\n",
       "      <td>7</td>\n",
       "      <td>7</td>\n",
       "      <td>5</td>\n",
       "      <td>1</td>\n",
       "      <td>279</td>\n",
       "      <td>5</td>\n",
       "      <td>14</td>\n",
       "      <td>39</td>\n",
       "      <td>239.554</td>\n",
       "      <td>...</td>\n",
       "      <td>0</td>\n",
       "      <td>1</td>\n",
       "      <td>2</td>\n",
       "      <td>1</td>\n",
       "      <td>1</td>\n",
       "      <td>0</td>\n",
       "      <td>68</td>\n",
       "      <td>168</td>\n",
       "      <td>24</td>\n",
       "      <td>4</td>\n",
       "    </tr>\n",
       "    <tr>\n",
       "      <th>4</th>\n",
       "      <td>11</td>\n",
       "      <td>23</td>\n",
       "      <td>7</td>\n",
       "      <td>5</td>\n",
       "      <td>1</td>\n",
       "      <td>289</td>\n",
       "      <td>36</td>\n",
       "      <td>13</td>\n",
       "      <td>33</td>\n",
       "      <td>239.554</td>\n",
       "      <td>...</td>\n",
       "      <td>0</td>\n",
       "      <td>1</td>\n",
       "      <td>2</td>\n",
       "      <td>1</td>\n",
       "      <td>0</td>\n",
       "      <td>1</td>\n",
       "      <td>90</td>\n",
       "      <td>172</td>\n",
       "      <td>30</td>\n",
       "      <td>2</td>\n",
       "    </tr>\n",
       "    <tr>\n",
       "      <th>...</th>\n",
       "      <td>...</td>\n",
       "      <td>...</td>\n",
       "      <td>...</td>\n",
       "      <td>...</td>\n",
       "      <td>...</td>\n",
       "      <td>...</td>\n",
       "      <td>...</td>\n",
       "      <td>...</td>\n",
       "      <td>...</td>\n",
       "      <td>...</td>\n",
       "      <td>...</td>\n",
       "      <td>...</td>\n",
       "      <td>...</td>\n",
       "      <td>...</td>\n",
       "      <td>...</td>\n",
       "      <td>...</td>\n",
       "      <td>...</td>\n",
       "      <td>...</td>\n",
       "      <td>...</td>\n",
       "      <td>...</td>\n",
       "      <td>...</td>\n",
       "    </tr>\n",
       "    <tr>\n",
       "      <th>735</th>\n",
       "      <td>11</td>\n",
       "      <td>14</td>\n",
       "      <td>7</td>\n",
       "      <td>3</td>\n",
       "      <td>1</td>\n",
       "      <td>289</td>\n",
       "      <td>36</td>\n",
       "      <td>13</td>\n",
       "      <td>33</td>\n",
       "      <td>264.604</td>\n",
       "      <td>...</td>\n",
       "      <td>0</td>\n",
       "      <td>1</td>\n",
       "      <td>2</td>\n",
       "      <td>1</td>\n",
       "      <td>0</td>\n",
       "      <td>1</td>\n",
       "      <td>90</td>\n",
       "      <td>172</td>\n",
       "      <td>30</td>\n",
       "      <td>8</td>\n",
       "    </tr>\n",
       "    <tr>\n",
       "      <th>736</th>\n",
       "      <td>1</td>\n",
       "      <td>11</td>\n",
       "      <td>7</td>\n",
       "      <td>3</td>\n",
       "      <td>1</td>\n",
       "      <td>235</td>\n",
       "      <td>11</td>\n",
       "      <td>14</td>\n",
       "      <td>37</td>\n",
       "      <td>264.604</td>\n",
       "      <td>...</td>\n",
       "      <td>0</td>\n",
       "      <td>3</td>\n",
       "      <td>1</td>\n",
       "      <td>0</td>\n",
       "      <td>0</td>\n",
       "      <td>1</td>\n",
       "      <td>88</td>\n",
       "      <td>172</td>\n",
       "      <td>29</td>\n",
       "      <td>4</td>\n",
       "    </tr>\n",
       "    <tr>\n",
       "      <th>737</th>\n",
       "      <td>4</td>\n",
       "      <td>0</td>\n",
       "      <td>0</td>\n",
       "      <td>3</td>\n",
       "      <td>1</td>\n",
       "      <td>118</td>\n",
       "      <td>14</td>\n",
       "      <td>13</td>\n",
       "      <td>40</td>\n",
       "      <td>271.219</td>\n",
       "      <td>...</td>\n",
       "      <td>0</td>\n",
       "      <td>1</td>\n",
       "      <td>1</td>\n",
       "      <td>1</td>\n",
       "      <td>0</td>\n",
       "      <td>8</td>\n",
       "      <td>98</td>\n",
       "      <td>170</td>\n",
       "      <td>34</td>\n",
       "      <td>0</td>\n",
       "    </tr>\n",
       "    <tr>\n",
       "      <th>738</th>\n",
       "      <td>8</td>\n",
       "      <td>0</td>\n",
       "      <td>0</td>\n",
       "      <td>4</td>\n",
       "      <td>2</td>\n",
       "      <td>231</td>\n",
       "      <td>35</td>\n",
       "      <td>14</td>\n",
       "      <td>39</td>\n",
       "      <td>271.219</td>\n",
       "      <td>...</td>\n",
       "      <td>0</td>\n",
       "      <td>1</td>\n",
       "      <td>2</td>\n",
       "      <td>1</td>\n",
       "      <td>0</td>\n",
       "      <td>2</td>\n",
       "      <td>100</td>\n",
       "      <td>170</td>\n",
       "      <td>35</td>\n",
       "      <td>0</td>\n",
       "    </tr>\n",
       "    <tr>\n",
       "      <th>739</th>\n",
       "      <td>35</td>\n",
       "      <td>0</td>\n",
       "      <td>0</td>\n",
       "      <td>6</td>\n",
       "      <td>3</td>\n",
       "      <td>179</td>\n",
       "      <td>45</td>\n",
       "      <td>14</td>\n",
       "      <td>53</td>\n",
       "      <td>271.219</td>\n",
       "      <td>...</td>\n",
       "      <td>0</td>\n",
       "      <td>1</td>\n",
       "      <td>1</td>\n",
       "      <td>0</td>\n",
       "      <td>0</td>\n",
       "      <td>1</td>\n",
       "      <td>77</td>\n",
       "      <td>175</td>\n",
       "      <td>25</td>\n",
       "      <td>0</td>\n",
       "    </tr>\n",
       "  </tbody>\n",
       "</table>\n",
       "<p>740 rows × 21 columns</p>\n",
       "</div>"
      ],
      "text/plain": [
       "     ID  Reason for absence  Month of absence  Day of the week  Seasons  \\\n",
       "0    11                  26                 7                3        1   \n",
       "1    36                   0                 7                3        1   \n",
       "2     3                  23                 7                4        1   \n",
       "3     7                   7                 7                5        1   \n",
       "4    11                  23                 7                5        1   \n",
       "..   ..                 ...               ...              ...      ...   \n",
       "735  11                  14                 7                3        1   \n",
       "736   1                  11                 7                3        1   \n",
       "737   4                   0                 0                3        1   \n",
       "738   8                   0                 0                4        2   \n",
       "739  35                   0                 0                6        3   \n",
       "\n",
       "     Transportation expense  Distance from Residence to Work  Service time  \\\n",
       "0                       289                               36            13   \n",
       "1                       118                               13            18   \n",
       "2                       179                               51            18   \n",
       "3                       279                                5            14   \n",
       "4                       289                               36            13   \n",
       "..                      ...                              ...           ...   \n",
       "735                     289                               36            13   \n",
       "736                     235                               11            14   \n",
       "737                     118                               14            13   \n",
       "738                     231                               35            14   \n",
       "739                     179                               45            14   \n",
       "\n",
       "     Age  Work load Average/day   ...  Disciplinary failure  Education  Son  \\\n",
       "0     33                 239.554  ...                     0          1    2   \n",
       "1     50                 239.554  ...                     1          1    1   \n",
       "2     38                 239.554  ...                     0          1    0   \n",
       "3     39                 239.554  ...                     0          1    2   \n",
       "4     33                 239.554  ...                     0          1    2   \n",
       "..   ...                     ...  ...                   ...        ...  ...   \n",
       "735   33                 264.604  ...                     0          1    2   \n",
       "736   37                 264.604  ...                     0          3    1   \n",
       "737   40                 271.219  ...                     0          1    1   \n",
       "738   39                 271.219  ...                     0          1    2   \n",
       "739   53                 271.219  ...                     0          1    1   \n",
       "\n",
       "     Social drinker  Social smoker  Pet  Weight  Height  Body mass index  \\\n",
       "0                 1              0    1      90     172               30   \n",
       "1                 1              0    0      98     178               31   \n",
       "2                 1              0    0      89     170               31   \n",
       "3                 1              1    0      68     168               24   \n",
       "4                 1              0    1      90     172               30   \n",
       "..              ...            ...  ...     ...     ...              ...   \n",
       "735               1              0    1      90     172               30   \n",
       "736               0              0    1      88     172               29   \n",
       "737               1              0    8      98     170               34   \n",
       "738               1              0    2     100     170               35   \n",
       "739               0              0    1      77     175               25   \n",
       "\n",
       "     Absenteeism time in hours  \n",
       "0                            4  \n",
       "1                            0  \n",
       "2                            2  \n",
       "3                            4  \n",
       "4                            2  \n",
       "..                         ...  \n",
       "735                          8  \n",
       "736                          4  \n",
       "737                          0  \n",
       "738                          0  \n",
       "739                          0  \n",
       "\n",
       "[740 rows x 21 columns]"
      ]
     },
     "execution_count": 9,
     "metadata": {},
     "output_type": "execute_result"
    }
   ],
   "source": [
    "absent_data = pd.read_csv(\"Absenteeism_at_work.tsv\", sep='\\t')\n",
    "absent_data"
   ]
  },
  {
   "cell_type": "code",
   "execution_count": 10,
   "id": "5401287f",
   "metadata": {},
   "outputs": [
    {
     "data": {
      "text/plain": [
       "ID                                 0\n",
       "Reason for absence                 0\n",
       "Month of absence                   0\n",
       "Day of the week                    0\n",
       "Seasons                            0\n",
       "Transportation expense             0\n",
       "Distance from Residence to Work    0\n",
       "Service time                       0\n",
       "Age                                0\n",
       "Work load Average/day              0\n",
       "Hit target                         0\n",
       "Disciplinary failure               0\n",
       "Education                          0\n",
       "Son                                0\n",
       "Social drinker                     0\n",
       "Social smoker                      0\n",
       "Pet                                0\n",
       "Weight                             0\n",
       "Height                             0\n",
       "Body mass index                    0\n",
       "Absenteeism time in hours          0\n",
       "dtype: int64"
      ]
     },
     "execution_count": 10,
     "metadata": {},
     "output_type": "execute_result"
    }
   ],
   "source": [
    "absent_data.isnull().sum()"
   ]
  },
  {
   "cell_type": "markdown",
   "id": "5a0c9b3d",
   "metadata": {},
   "source": [
    "## Problems"
   ]
  },
  {
   "cell_type": "markdown",
   "id": "4540c2bb",
   "metadata": {},
   "source": [
    "#### 1. Day of the week and reason for absence"
   ]
  },
  {
   "cell_type": "markdown",
   "id": "f985875b",
   "metadata": {},
   "source": [
    "- Day of the week (Monday (2), Tuesday (3), Wednesday (4), Thursday (5), Friday (6))\n",
    "- Absences attested by the International Code of Diseases (ICD) stratified into 21 categories (I to XXI) as follows:\n",
    "\n",
    "- I Certain infectious and parasitic diseases\n",
    "- II Neoplasms\n",
    "- III Diseases of the blood and blood-forming organs and certain disorders involving the immune mechanism\n",
    "- IV Endocrine, nutritional and metabolic diseases\n",
    "- V Mental and behavioural disorders\n",
    "- VI Diseases of the nervous system\n",
    "- VII Diseases of the eye and adnexa\n",
    "- VIII Diseases of the ear and mastoid process\n",
    "- IX Diseases of the circulatory system\n",
    "- X Diseases of the respiratory system\n",
    "- XI Diseases of the digestive system\n",
    "- XII Diseases of the skin and subcutaneous tissue\n",
    "- XIII Diseases of the musculoskeletal system and connective tissue\n",
    "- XIV Diseases of the genitourinary system\n",
    "- XV Pregnancy, childbirth and the puerperium\n",
    "- XVI Certain conditions originating in the perinatal period\n",
    "- XVII Congenital malformations, deformations and chromosomal abnormalities\n",
    "- XVIII Symptoms, signs and abnormal clinical and laboratory findings, not elsewhere classified\n",
    "- XIX Injury, poisoning and certain other consequences of external causes\n",
    "- XX External causes of morbidity and mortality\n",
    "- XXI Factors influencing health status and contact with health services."
   ]
  },
  {
   "cell_type": "markdown",
   "id": "bf9fe01c",
   "metadata": {},
   "source": [
    "#### Using Numpy corrcoef"
   ]
  },
  {
   "cell_type": "code",
   "execution_count": 11,
   "id": "8b39afa9",
   "metadata": {},
   "outputs": [
    {
     "data": {
      "text/plain": [
       "array([[1.        , 0.11631924],\n",
       "       [0.11631924, 1.        ]])"
      ]
     },
     "execution_count": 11,
     "metadata": {},
     "output_type": "execute_result"
    }
   ],
   "source": [
    "np.corrcoef(absent_data['Day of the week'],\n",
    "            absent_data['Reason for absence'])"
   ]
  },
  {
   "cell_type": "markdown",
   "id": "aad3a3c8",
   "metadata": {},
   "source": [
    "#### Using pandas"
   ]
  },
  {
   "cell_type": "code",
   "execution_count": 12,
   "id": "1f996b87",
   "metadata": {},
   "outputs": [
    {
     "data": {
      "text/plain": [
       "0.11631924393042797"
      ]
     },
     "execution_count": 12,
     "metadata": {},
     "output_type": "execute_result"
    }
   ],
   "source": [
    "absent_data['Day of the week'].corr(absent_data['Reason for absence'])"
   ]
  },
  {
   "cell_type": "markdown",
   "id": "b5cb4f27",
   "metadata": {},
   "source": [
    "#### Using Pearson's correlation"
   ]
  },
  {
   "cell_type": "code",
   "execution_count": 13,
   "id": "a69d25a0",
   "metadata": {},
   "outputs": [
    {
     "data": {
      "text/plain": [
       "(0.11631924393042802, 0.001526270295711275)"
      ]
     },
     "execution_count": 13,
     "metadata": {},
     "output_type": "execute_result"
    }
   ],
   "source": [
    "pearsonr(absent_data['Day of the week'], \n",
    "         absent_data['Reason for absence'])"
   ]
  },
  {
   "cell_type": "markdown",
   "id": "52b5ee49",
   "metadata": {},
   "source": [
    "#### Using Spearman's Correlation"
   ]
  },
  {
   "cell_type": "code",
   "execution_count": 14,
   "id": "b5fa0e9f",
   "metadata": {},
   "outputs": [
    {
     "data": {
      "text/plain": [
       "SpearmanrResult(correlation=0.12246263308006688, pvalue=0.0008429727110657136)"
      ]
     },
     "execution_count": 14,
     "metadata": {},
     "output_type": "execute_result"
    }
   ],
   "source": [
    "spearmanr(absent_data['Day of the week'], \n",
    "          absent_data['Reason for absence'])"
   ]
  },
  {
   "cell_type": "code",
   "execution_count": 15,
   "id": "ccd67c17",
   "metadata": {},
   "outputs": [
    {
     "data": {
      "image/png": "[encoded data removed]",
      "text/plain": [
       "<Figure size 864x576 with 1 Axes>"
      ]
     },
     "metadata": {
      "needs_background": "light"
     },
     "output_type": "display_data"
    }
   ],
   "source": [
    "plt.figure(figsize=(12,8))\n",
    "\n",
    "plt.scatter(absent_data['Day of the week'], \n",
    "            absent_data['Reason for absence'], color='m')\n",
    "\n",
    "plt.title('Day of the week and reason for absence')\n",
    "\n",
    "plt.xlabel('Day of the week')\n",
    "plt.ylabel('Reason for absence')\n",
    "\n",
    "plt.show()"
   ]
  },
  {
   "cell_type": "markdown",
   "id": "5d58f5a9",
   "metadata": {},
   "source": [
    "Based on the different correlation methods tested, there does not seem to be a correlation between the day of the week and the reason for absence. The day of the week and reason for absence do not have a correlation that is statistically significant as the correlation is (rounded) 0.11. Each day of the week had similar absences and multiple reasons for absence. "
   ]
  },
  {
   "cell_type": "markdown",
   "id": "20c28a0e",
   "metadata": {},
   "source": [
    "#### 2. Month of absence and age"
   ]
  },
  {
   "cell_type": "code",
   "execution_count": 16,
   "id": "d484dac1",
   "metadata": {},
   "outputs": [
    {
     "data": {
      "text/plain": [
       "-0.0015195444984268647"
      ]
     },
     "execution_count": 16,
     "metadata": {},
     "output_type": "execute_result"
    }
   ],
   "source": [
    "absent_data['Month of absence'].corr(absent_data['Age'])"
   ]
  },
  {
   "cell_type": "code",
   "execution_count": 17,
   "id": "1b1b30c1",
   "metadata": {},
   "outputs": [
    {
     "data": {
      "image/png": "[encoded data removed]",
      "text/plain": [
       "<Figure size 864x576 with 1 Axes>"
      ]
     },
     "metadata": {
      "needs_background": "light"
     },
     "output_type": "display_data"
    }
   ],
   "source": [
    "plt.figure(figsize=(12, 8))\n",
    "\n",
    "plt.scatter(absent_data['Month of absence'], \n",
    "            absent_data['Age'], color='m')\n",
    "\n",
    "plt.title('Month of absence by Age')\n",
    "\n",
    "plt.xlabel('Month')\n",
    "plt.ylabel('Age')\n",
    "\n",
    "plt.show()"
   ]
  },
  {
   "cell_type": "markdown",
   "id": "2ae9c471",
   "metadata": {},
   "source": [
    "There is not a strong correlation between the month of absence and the worker's age. The correlation rounds to -0.0015. The correlation is not statistically significant because there were employees from all ages absent every month. "
   ]
  },
  {
   "cell_type": "markdown",
   "id": "0a3b348f",
   "metadata": {},
   "source": [
    "#### 3. Hit target and disciplinary failure"
   ]
  },
  {
   "cell_type": "markdown",
   "id": "32529e31",
   "metadata": {},
   "source": [
    "- Hit target\n",
    "- Disciplinary failure (yes=1, no=0)"
   ]
  },
  {
   "cell_type": "code",
   "execution_count": 18,
   "id": "724e5a22",
   "metadata": {},
   "outputs": [
    {
     "data": {
      "text/html": [
       "<div>\n",
       "<style scoped>\n",
       "    .dataframe tbody tr th:only-of-type {\n",
       "        vertical-align: middle;\n",
       "    }\n",
       "\n",
       "    .dataframe tbody tr th {\n",
       "        vertical-align: top;\n",
       "    }\n",
       "\n",
       "    .dataframe thead th {\n",
       "        text-align: right;\n",
       "    }\n",
       "</style>\n",
       "<table border=\"1\" class=\"dataframe\">\n",
       "  <thead>\n",
       "    <tr style=\"text-align: right;\">\n",
       "      <th></th>\n",
       "      <th>Hit target</th>\n",
       "      <th>Disciplinary failure</th>\n",
       "    </tr>\n",
       "  </thead>\n",
       "  <tbody>\n",
       "    <tr>\n",
       "      <th>0</th>\n",
       "      <td>97</td>\n",
       "      <td>0</td>\n",
       "    </tr>\n",
       "    <tr>\n",
       "      <th>1</th>\n",
       "      <td>97</td>\n",
       "      <td>1</td>\n",
       "    </tr>\n",
       "    <tr>\n",
       "      <th>2</th>\n",
       "      <td>97</td>\n",
       "      <td>0</td>\n",
       "    </tr>\n",
       "    <tr>\n",
       "      <th>3</th>\n",
       "      <td>97</td>\n",
       "      <td>0</td>\n",
       "    </tr>\n",
       "    <tr>\n",
       "      <th>4</th>\n",
       "      <td>97</td>\n",
       "      <td>0</td>\n",
       "    </tr>\n",
       "    <tr>\n",
       "      <th>...</th>\n",
       "      <td>...</td>\n",
       "      <td>...</td>\n",
       "    </tr>\n",
       "    <tr>\n",
       "      <th>735</th>\n",
       "      <td>93</td>\n",
       "      <td>0</td>\n",
       "    </tr>\n",
       "    <tr>\n",
       "      <th>736</th>\n",
       "      <td>93</td>\n",
       "      <td>0</td>\n",
       "    </tr>\n",
       "    <tr>\n",
       "      <th>737</th>\n",
       "      <td>95</td>\n",
       "      <td>0</td>\n",
       "    </tr>\n",
       "    <tr>\n",
       "      <th>738</th>\n",
       "      <td>95</td>\n",
       "      <td>0</td>\n",
       "    </tr>\n",
       "    <tr>\n",
       "      <th>739</th>\n",
       "      <td>95</td>\n",
       "      <td>0</td>\n",
       "    </tr>\n",
       "  </tbody>\n",
       "</table>\n",
       "<p>740 rows × 2 columns</p>\n",
       "</div>"
      ],
      "text/plain": [
       "     Hit target  Disciplinary failure\n",
       "0            97                     0\n",
       "1            97                     1\n",
       "2            97                     0\n",
       "3            97                     0\n",
       "4            97                     0\n",
       "..          ...                   ...\n",
       "735          93                     0\n",
       "736          93                     0\n",
       "737          95                     0\n",
       "738          95                     0\n",
       "739          95                     0\n",
       "\n",
       "[740 rows x 2 columns]"
      ]
     },
     "execution_count": 18,
     "metadata": {},
     "output_type": "execute_result"
    }
   ],
   "source": [
    "absent_data[['Hit target', 'Disciplinary failure']]"
   ]
  },
  {
   "cell_type": "code",
   "execution_count": 19,
   "id": "e2140725",
   "metadata": {},
   "outputs": [
    {
     "data": {
      "text/plain": [
       "-0.14797083444555695"
      ]
     },
     "execution_count": 19,
     "metadata": {},
     "output_type": "execute_result"
    }
   ],
   "source": [
    "absent_data['Hit target'].corr(absent_data['Disciplinary failure'])"
   ]
  },
  {
   "cell_type": "code",
   "execution_count": 20,
   "id": "e00fa464",
   "metadata": {},
   "outputs": [
    {
     "data": {
      "image/png": "[encoded data removed]",
      "text/plain": [
       "<Figure size 864x576 with 1 Axes>"
      ]
     },
     "metadata": {
      "needs_background": "light"
     },
     "output_type": "display_data"
    }
   ],
   "source": [
    "plt.figure(figsize=(12, 8))\n",
    "\n",
    "plt.scatter(absent_data['Hit target'], \n",
    "            absent_data['Disciplinary failure'], color='m')\n",
    "\n",
    "plt.title('Hit target and Disciplinary Failure')\n",
    "\n",
    "plt.xlabel('Hit Target')\n",
    "plt.ylabel('Disciplinary Failure')\n",
    "\n",
    "plt.show()"
   ]
  },
  {
   "cell_type": "markdown",
   "id": "22c89a91",
   "metadata": {},
   "source": [
    "There is not a strong correlation between a whether a disciplinary failure affects hit target performance. The correlation between the two categories is -0.14797083444555695. The correlation is not statistically significant as the hit target was high for disciplinary failure being yes and no, as well as for low hit targets."
   ]
  },
  {
   "cell_type": "markdown",
   "id": "689f1673",
   "metadata": {},
   "source": [
    "#### Service time and reason for absence"
   ]
  },
  {
   "cell_type": "code",
   "execution_count": 21,
   "id": "05b99ce4",
   "metadata": {},
   "outputs": [
    {
     "data": {
      "text/plain": [
       "0.04842511542434093"
      ]
     },
     "execution_count": 21,
     "metadata": {},
     "output_type": "execute_result"
    }
   ],
   "source": [
    "absent_data['Service time'].corr(absent_data['Reason for absence'])"
   ]
  },
  {
   "cell_type": "code",
   "execution_count": 22,
   "id": "bed2df54",
   "metadata": {},
   "outputs": [
    {
     "data": {
      "image/png": "[encoded data removed]",
      "text/plain": [
       "<Figure size 864x576 with 1 Axes>"
      ]
     },
     "metadata": {
      "needs_background": "light"
     },
     "output_type": "display_data"
    }
   ],
   "source": [
    "plt.figure(figsize=(12, 8))\n",
    "\n",
    "plt.scatter(absent_data['Service time'], \n",
    "            absent_data['Reason for absence'], color='m')\n",
    "\n",
    "plt.title('Service time and reason for absence')\n",
    "\n",
    "plt.xlabel('Service Time')\n",
    "plt.ylabel('Reason for absence')\n",
    "\n",
    "plt.show()"
   ]
  },
  {
   "cell_type": "markdown",
   "id": "db736e9b",
   "metadata": {},
   "source": [
    "There does not seem to be a strong correlation between the service time and reason for absence. The correlation was 0.04842511542434093. Based on the scatter plot and correlation, various service times had multiple reasons for absence. "
   ]
  },
  {
   "cell_type": "markdown",
   "id": "d9572a0d",
   "metadata": {},
   "source": [
    "#### 5. Transportation expense and distance from residence to work (kilometers)"
   ]
  },
  {
   "cell_type": "code",
   "execution_count": 23,
   "id": "e01dc03c",
   "metadata": {},
   "outputs": [
    {
     "data": {
      "text/plain": [
       "0.262183110631908"
      ]
     },
     "execution_count": 23,
     "metadata": {},
     "output_type": "execute_result"
    }
   ],
   "source": [
    "absent_data['Transportation expense'].corr(absent_data['Distance from Residence to Work'])"
   ]
  },
  {
   "cell_type": "code",
   "execution_count": 24,
   "id": "f178b9b6",
   "metadata": {},
   "outputs": [
    {
     "data": {
      "image/png": "[encoded data removed]",
      "text/plain": [
       "<Figure size 864x576 with 1 Axes>"
      ]
     },
     "metadata": {
      "needs_background": "light"
     },
     "output_type": "display_data"
    }
   ],
   "source": [
    "plt.figure(figsize=(12, 8))\n",
    "\n",
    "plt.scatter(absent_data['Transportation expense'], \n",
    "            absent_data['Distance from Residence to Work'], color='m')\n",
    "\n",
    "plt.title(\"Transportation expense and worker's distance from residence to work\")\n",
    "\n",
    "plt.xlabel('Transportation expense')\n",
    "plt.ylabel('Distance (km)')\n",
    "\n",
    "plt.show()"
   ]
  },
  {
   "cell_type": "markdown",
   "id": "e6cfda40",
   "metadata": {},
   "source": [
    "There is not a strong correlation between the transporation expense and the distance from residence to work. The correlation is 0.262183110631908. The scatter plot shows that some workers may travel a shorter distance but have a high transportation expense. Workers who traveled farther distances were around the same transportation expense ranger as the worker who traveled half the distance."
   ]
  },
  {
   "cell_type": "markdown",
   "id": "15fb7d7e",
   "metadata": {},
   "source": [
    "#### 6. Age and pet (number of pet)"
   ]
  },
  {
   "cell_type": "code",
   "execution_count": 25,
   "id": "c71ffe3e",
   "metadata": {},
   "outputs": [
    {
     "data": {
      "text/plain": [
       "-0.2312259991265847"
      ]
     },
     "execution_count": 25,
     "metadata": {},
     "output_type": "execute_result"
    }
   ],
   "source": [
    "absent_data['Age'].corr(absent_data['Pet'])"
   ]
  },
  {
   "cell_type": "code",
   "execution_count": 26,
   "id": "1c1c8c65",
   "metadata": {},
   "outputs": [
    {
     "data": {
      "image/png": "[encoded data removed]",
      "text/plain": [
       "<Figure size 864x576 with 1 Axes>"
      ]
     },
     "metadata": {
      "needs_background": "light"
     },
     "output_type": "display_data"
    }
   ],
   "source": [
    "plt.figure(figsize=(12, 8))\n",
    "\n",
    "plt.scatter(absent_data['Age'], \n",
    "            absent_data['Pet'], color='m')\n",
    "\n",
    "plt.title(\"Worker's age and number of pets owned\")\n",
    "\n",
    "plt.xlabel('Age')\n",
    "plt.ylabel('Number of pets')\n",
    "\n",
    "plt.show()"
   ]
  },
  {
   "cell_type": "markdown",
   "id": "eebb301d",
   "metadata": {},
   "source": [
    "There is not a strong correlation between the worker's age and the number of pets they own. The correlation was -0.2312259991265847. Based on the scatter plot the worker's age did not determine whether a person has a pet, many pets, or no pets."
   ]
  },
  {
   "cell_type": "markdown",
   "id": "c91dac1c",
   "metadata": {},
   "source": [
    "#### 7. Absenteeism time in hours and day of the week"
   ]
  },
  {
   "cell_type": "markdown",
   "id": "964c6d43",
   "metadata": {},
   "source": [
    "- Absenteeism time in hours (target)\n",
    "- Day of the week (Monday (2), Tuesday (3), Wednesday (4), Thursday (5), Friday (6))"
   ]
  },
  {
   "cell_type": "code",
   "execution_count": 27,
   "id": "ee171fdf",
   "metadata": {},
   "outputs": [
    {
     "data": {
      "text/plain": [
       "-0.12436061376972109"
      ]
     },
     "execution_count": 27,
     "metadata": {},
     "output_type": "execute_result"
    }
   ],
   "source": [
    "absent_data['Absenteeism time in hours'].corr(absent_data['Day of the week'])"
   ]
  },
  {
   "cell_type": "code",
   "execution_count": 28,
   "id": "fb9fccd2",
   "metadata": {},
   "outputs": [
    {
     "data": {
      "image/png": "[encoded data removed]",
      "text/plain": [
       "<Figure size 864x576 with 1 Axes>"
      ]
     },
     "metadata": {
      "needs_background": "light"
     },
     "output_type": "display_data"
    }
   ],
   "source": [
    "plt.figure(figsize=(12, 8))\n",
    "\n",
    "plt.scatter(absent_data['Absenteeism time in hours'], \n",
    "            absent_data['Day of the week'], color='m')\n",
    "\n",
    "plt.title(\"Absent time per day of the week\")\n",
    "\n",
    "plt.xlabel('Time (hours)')\n",
    "plt.ylabel('Day of the week')\n",
    "\n",
    "plt.show()"
   ]
  },
  {
   "cell_type": "markdown",
   "id": "b3c0fe0f",
   "metadata": {},
   "source": [
    "There is not a strong correlation between the number of hours absent and the day of the week. The correlation is -0.12436061376972109. Every day of the week had varying hours of absences."
   ]
  },
  {
   "cell_type": "markdown",
   "id": "5b5480ee",
   "metadata": {},
   "source": [
    "#### 8. Month of absence and absenteeism time in hours (target)"
   ]
  },
  {
   "cell_type": "code",
   "execution_count": 29,
   "id": "4e60a124",
   "metadata": {},
   "outputs": [
    {
     "data": {
      "text/plain": [
       "0.02434535694486776"
      ]
     },
     "execution_count": 29,
     "metadata": {},
     "output_type": "execute_result"
    }
   ],
   "source": [
    "absent_data['Month of absence'].corr(absent_data['Absenteeism time in hours'])"
   ]
  },
  {
   "cell_type": "code",
   "execution_count": 30,
   "id": "3a111d67",
   "metadata": {},
   "outputs": [
    {
     "data": {
      "image/png": "[encoded data removed]",
      "text/plain": [
       "<Figure size 864x576 with 1 Axes>"
      ]
     },
     "metadata": {
      "needs_background": "light"
     },
     "output_type": "display_data"
    }
   ],
   "source": [
    "plt.figure(figsize=(12, 8))\n",
    "\n",
    "plt.scatter(absent_data['Month of absence'], \n",
    "            absent_data['Absenteeism time in hours'], color='m')\n",
    "\n",
    "plt.title(\"Month of absence and absenteeism time\")\n",
    "\n",
    "plt.xlabel('Month')\n",
    "plt.ylabel('Time (hours)')\n",
    "\n",
    "plt.show()"
   ]
  },
  {
   "cell_type": "markdown",
   "id": "6c6ed307",
   "metadata": {},
   "source": [
    "There is not a strong correlation between the month of absence and absenteeism time. The correlation is 0.02434535694486776. Most of the absenteeism time is spread throughout the months of the year. Certain months do have some employees who had higher absent times but as a whole the workers did not have increased absent times for one month specifically."
   ]
  },
  {
   "cell_type": "markdown",
   "id": "c10da462",
   "metadata": {},
   "source": [
    "#### 9. Body mass index and height"
   ]
  },
  {
   "cell_type": "code",
   "execution_count": 31,
   "id": "954931fc",
   "metadata": {},
   "outputs": [
    {
     "data": {
      "text/plain": [
       "-0.12104877689386079"
      ]
     },
     "execution_count": 31,
     "metadata": {},
     "output_type": "execute_result"
    }
   ],
   "source": [
    "absent_data['Body mass index'].corr(absent_data['Height'])"
   ]
  },
  {
   "cell_type": "code",
   "execution_count": 32,
   "id": "4b19e687",
   "metadata": {},
   "outputs": [
    {
     "data": {
      "image/png": "[encoded data removed]",
      "text/plain": [
       "<Figure size 864x576 with 1 Axes>"
      ]
     },
     "metadata": {
      "needs_background": "light"
     },
     "output_type": "display_data"
    }
   ],
   "source": [
    "plt.figure(figsize=(12, 8))\n",
    "\n",
    "plt.scatter(absent_data['Body mass index'], \n",
    "            absent_data['Height'], color='m')\n",
    "\n",
    "plt.title(\"Body mass index by Height\")\n",
    "\n",
    "plt.xlabel('BMI')\n",
    "plt.ylabel('Height')\n",
    "\n",
    "plt.show()"
   ]
  },
  {
   "cell_type": "markdown",
   "id": "af6c6357",
   "metadata": {},
   "source": [
    "There is not a strong correlation between a person's BMI and height based on the correlation and scatter plot. The correlation is -0.12104877689386079. A person can have a high BMI and be short and a person can be very tall and have a smaller BMI. The BMI and height do not have a direct correlation because every person is very different."
   ]
  },
  {
   "cell_type": "markdown",
   "id": "5136775c",
   "metadata": {},
   "source": [
    "#### 10. Pet and disciplinary failure"
   ]
  },
  {
   "cell_type": "markdown",
   "id": "165a79c6",
   "metadata": {},
   "source": [
    "- Pet (number of pet)\n",
    "- Disciplinary failure (yes=1,no=0)"
   ]
  },
  {
   "cell_type": "code",
   "execution_count": 33,
   "id": "7df957df",
   "metadata": {},
   "outputs": [
    {
     "data": {
      "text/plain": [
       "0.018881352933121362"
      ]
     },
     "execution_count": 33,
     "metadata": {},
     "output_type": "execute_result"
    }
   ],
   "source": [
    "absent_data['Pet'].corr(absent_data['Disciplinary failure'])"
   ]
  },
  {
   "cell_type": "code",
   "execution_count": 34,
   "id": "9415465b",
   "metadata": {},
   "outputs": [
    {
     "data": {
      "image/png": "[encoded data removed]",
      "text/plain": [
       "<Figure size 864x576 with 1 Axes>"
      ]
     },
     "metadata": {
      "needs_background": "light"
     },
     "output_type": "display_data"
    }
   ],
   "source": [
    "plt.figure(figsize=(12, 8))\n",
    "\n",
    "plt.scatter(absent_data['Pet'], \n",
    "            absent_data['Disciplinary failure'], color='m')\n",
    "\n",
    "plt.title(\"Pets owned and disciplinary failure\")\n",
    "\n",
    "plt.xlabel('Number of pets')\n",
    "plt.ylabel('Disciplinary failure')\n",
    "\n",
    "plt.show()"
   ]
  },
  {
   "cell_type": "markdown",
   "id": "91728683",
   "metadata": {},
   "source": [
    "There is not a strong correlation between the number of pets owned and whether a worker received a disciplinary failure. The correlation is 0.018881352933121362. Based on the scatter plot workers who had one, few, and many pets recieved disciplinary failures."
   ]
  },
  {
   "cell_type": "markdown",
   "id": "ead53577",
   "metadata": {},
   "source": [
    "## Part 2: Visualizing Correlation"
   ]
  },
  {
   "cell_type": "markdown",
   "id": "2c9def2e",
   "metadata": {},
   "source": [
    "#### 1. Day of the week and reason for absence\n",
    "- Day of the week (Monday (2), Tuesday (3), Wednesday (4), Thursday (5), Friday (6))\n",
    "- Absences attested by the International Code of Diseases (ICD) stratified into 21 categories (I to XXI) as follows:\n",
    "\n",
    "- I Certain infectious and parasitic diseases\n",
    "- II Neoplasms\n",
    "- III Diseases of the blood and blood-forming organs and certain disorders involving the immune mechanism\n",
    "- IV Endocrine, nutritional and metabolic diseases\n",
    "- V Mental and behavioural disorders\n",
    "- VI Diseases of the nervous system\n",
    "- VII Diseases of the eye and adnexa\n",
    "- VIII Diseases of the ear and mastoid process\n",
    "- IX Diseases of the circulatory system\n",
    "- X Diseases of the respiratory system\n",
    "- XI Diseases of the digestive system\n",
    "- XII Diseases of the skin and subcutaneous tissue\n",
    "- XIII Diseases of the musculoskeletal system and connective tissue\n",
    "- XIV Diseases of the genitourinary system\n",
    "- XV Pregnancy, childbirth and the puerperium\n",
    "- XVI Certain conditions originating in the perinatal period\n",
    "- XVII Congenital malformations, deformations and chromosomal abnormalities\n",
    "- XVIII Symptoms, signs and abnormal clinical and laboratory findings, not elsewhere classified\n",
    "- XIX Injury, poisoning and certain other consequences of external causes\n",
    "- XX External causes of morbidity and mortality\n",
    "- XXI Factors influencing health status and contact with health services."
   ]
  },
  {
   "cell_type": "code",
   "execution_count": 144,
   "id": "0f24609e",
   "metadata": {},
   "outputs": [
    {
     "data": {
      "text/plain": [
       "23    149\n",
       "Name: Reason for absence, dtype: int64"
      ]
     },
     "execution_count": 144,
     "metadata": {},
     "output_type": "execute_result"
    }
   ],
   "source": [
    "absent_data['Reason for absence'].value_counts().head(1)"
   ]
  },
  {
   "cell_type": "code",
   "execution_count": 160,
   "id": "637436b5",
   "metadata": {},
   "outputs": [
    {
     "data": {
      "text/html": [
       "<div>\n",
       "<style scoped>\n",
       "    .dataframe tbody tr th:only-of-type {\n",
       "        vertical-align: middle;\n",
       "    }\n",
       "\n",
       "    .dataframe tbody tr th {\n",
       "        vertical-align: top;\n",
       "    }\n",
       "\n",
       "    .dataframe thead th {\n",
       "        text-align: right;\n",
       "    }\n",
       "</style>\n",
       "<table border=\"1\" class=\"dataframe\">\n",
       "  <thead>\n",
       "    <tr style=\"text-align: right;\">\n",
       "      <th></th>\n",
       "      <th>ID</th>\n",
       "      <th>Reason for absence</th>\n",
       "      <th>Month of absence</th>\n",
       "      <th>Day of the week</th>\n",
       "      <th>Seasons</th>\n",
       "      <th>Transportation expense</th>\n",
       "      <th>Distance from Residence to Work</th>\n",
       "      <th>Service time</th>\n",
       "      <th>Age</th>\n",
       "      <th>Work load Average/day</th>\n",
       "      <th>...</th>\n",
       "      <th>Disciplinary failure</th>\n",
       "      <th>Education</th>\n",
       "      <th>Son</th>\n",
       "      <th>Social drinker</th>\n",
       "      <th>Social smoker</th>\n",
       "      <th>Pet</th>\n",
       "      <th>Weight</th>\n",
       "      <th>Height</th>\n",
       "      <th>Body mass index</th>\n",
       "      <th>Absenteeism time in hours</th>\n",
       "    </tr>\n",
       "  </thead>\n",
       "  <tbody>\n",
       "    <tr>\n",
       "      <th>2</th>\n",
       "      <td>3</td>\n",
       "      <td>23</td>\n",
       "      <td>7</td>\n",
       "      <td>4</td>\n",
       "      <td>1</td>\n",
       "      <td>179</td>\n",
       "      <td>51</td>\n",
       "      <td>18</td>\n",
       "      <td>38</td>\n",
       "      <td>239.554</td>\n",
       "      <td>...</td>\n",
       "      <td>0</td>\n",
       "      <td>1</td>\n",
       "      <td>0</td>\n",
       "      <td>1</td>\n",
       "      <td>0</td>\n",
       "      <td>0</td>\n",
       "      <td>89</td>\n",
       "      <td>170</td>\n",
       "      <td>31</td>\n",
       "      <td>2</td>\n",
       "    </tr>\n",
       "    <tr>\n",
       "      <th>4</th>\n",
       "      <td>11</td>\n",
       "      <td>23</td>\n",
       "      <td>7</td>\n",
       "      <td>5</td>\n",
       "      <td>1</td>\n",
       "      <td>289</td>\n",
       "      <td>36</td>\n",
       "      <td>13</td>\n",
       "      <td>33</td>\n",
       "      <td>239.554</td>\n",
       "      <td>...</td>\n",
       "      <td>0</td>\n",
       "      <td>1</td>\n",
       "      <td>2</td>\n",
       "      <td>1</td>\n",
       "      <td>0</td>\n",
       "      <td>1</td>\n",
       "      <td>90</td>\n",
       "      <td>172</td>\n",
       "      <td>30</td>\n",
       "      <td>2</td>\n",
       "    </tr>\n",
       "    <tr>\n",
       "      <th>5</th>\n",
       "      <td>3</td>\n",
       "      <td>23</td>\n",
       "      <td>7</td>\n",
       "      <td>6</td>\n",
       "      <td>1</td>\n",
       "      <td>179</td>\n",
       "      <td>51</td>\n",
       "      <td>18</td>\n",
       "      <td>38</td>\n",
       "      <td>239.554</td>\n",
       "      <td>...</td>\n",
       "      <td>0</td>\n",
       "      <td>1</td>\n",
       "      <td>0</td>\n",
       "      <td>1</td>\n",
       "      <td>0</td>\n",
       "      <td>0</td>\n",
       "      <td>89</td>\n",
       "      <td>170</td>\n",
       "      <td>31</td>\n",
       "      <td>2</td>\n",
       "    </tr>\n",
       "    <tr>\n",
       "      <th>7</th>\n",
       "      <td>20</td>\n",
       "      <td>23</td>\n",
       "      <td>7</td>\n",
       "      <td>6</td>\n",
       "      <td>1</td>\n",
       "      <td>260</td>\n",
       "      <td>50</td>\n",
       "      <td>11</td>\n",
       "      <td>36</td>\n",
       "      <td>239.554</td>\n",
       "      <td>...</td>\n",
       "      <td>0</td>\n",
       "      <td>1</td>\n",
       "      <td>4</td>\n",
       "      <td>1</td>\n",
       "      <td>0</td>\n",
       "      <td>0</td>\n",
       "      <td>65</td>\n",
       "      <td>168</td>\n",
       "      <td>23</td>\n",
       "      <td>4</td>\n",
       "    </tr>\n",
       "    <tr>\n",
       "      <th>14</th>\n",
       "      <td>3</td>\n",
       "      <td>23</td>\n",
       "      <td>7</td>\n",
       "      <td>4</td>\n",
       "      <td>1</td>\n",
       "      <td>179</td>\n",
       "      <td>51</td>\n",
       "      <td>18</td>\n",
       "      <td>38</td>\n",
       "      <td>239.554</td>\n",
       "      <td>...</td>\n",
       "      <td>0</td>\n",
       "      <td>1</td>\n",
       "      <td>0</td>\n",
       "      <td>1</td>\n",
       "      <td>0</td>\n",
       "      <td>0</td>\n",
       "      <td>89</td>\n",
       "      <td>170</td>\n",
       "      <td>31</td>\n",
       "      <td>4</td>\n",
       "    </tr>\n",
       "    <tr>\n",
       "      <th>...</th>\n",
       "      <td>...</td>\n",
       "      <td>...</td>\n",
       "      <td>...</td>\n",
       "      <td>...</td>\n",
       "      <td>...</td>\n",
       "      <td>...</td>\n",
       "      <td>...</td>\n",
       "      <td>...</td>\n",
       "      <td>...</td>\n",
       "      <td>...</td>\n",
       "      <td>...</td>\n",
       "      <td>...</td>\n",
       "      <td>...</td>\n",
       "      <td>...</td>\n",
       "      <td>...</td>\n",
       "      <td>...</td>\n",
       "      <td>...</td>\n",
       "      <td>...</td>\n",
       "      <td>...</td>\n",
       "      <td>...</td>\n",
       "      <td>...</td>\n",
       "    </tr>\n",
       "    <tr>\n",
       "      <th>663</th>\n",
       "      <td>10</td>\n",
       "      <td>23</td>\n",
       "      <td>4</td>\n",
       "      <td>3</td>\n",
       "      <td>3</td>\n",
       "      <td>361</td>\n",
       "      <td>52</td>\n",
       "      <td>3</td>\n",
       "      <td>28</td>\n",
       "      <td>246.288</td>\n",
       "      <td>...</td>\n",
       "      <td>0</td>\n",
       "      <td>1</td>\n",
       "      <td>1</td>\n",
       "      <td>1</td>\n",
       "      <td>0</td>\n",
       "      <td>4</td>\n",
       "      <td>80</td>\n",
       "      <td>172</td>\n",
       "      <td>27</td>\n",
       "      <td>2</td>\n",
       "    </tr>\n",
       "    <tr>\n",
       "      <th>685</th>\n",
       "      <td>36</td>\n",
       "      <td>23</td>\n",
       "      <td>5</td>\n",
       "      <td>2</td>\n",
       "      <td>3</td>\n",
       "      <td>118</td>\n",
       "      <td>13</td>\n",
       "      <td>18</td>\n",
       "      <td>50</td>\n",
       "      <td>237.656</td>\n",
       "      <td>...</td>\n",
       "      <td>0</td>\n",
       "      <td>1</td>\n",
       "      <td>1</td>\n",
       "      <td>1</td>\n",
       "      <td>0</td>\n",
       "      <td>0</td>\n",
       "      <td>98</td>\n",
       "      <td>178</td>\n",
       "      <td>31</td>\n",
       "      <td>2</td>\n",
       "    </tr>\n",
       "    <tr>\n",
       "      <th>698</th>\n",
       "      <td>25</td>\n",
       "      <td>23</td>\n",
       "      <td>5</td>\n",
       "      <td>5</td>\n",
       "      <td>3</td>\n",
       "      <td>235</td>\n",
       "      <td>16</td>\n",
       "      <td>8</td>\n",
       "      <td>32</td>\n",
       "      <td>237.656</td>\n",
       "      <td>...</td>\n",
       "      <td>0</td>\n",
       "      <td>3</td>\n",
       "      <td>0</td>\n",
       "      <td>0</td>\n",
       "      <td>0</td>\n",
       "      <td>0</td>\n",
       "      <td>75</td>\n",
       "      <td>178</td>\n",
       "      <td>25</td>\n",
       "      <td>2</td>\n",
       "    </tr>\n",
       "    <tr>\n",
       "      <th>702</th>\n",
       "      <td>14</td>\n",
       "      <td>23</td>\n",
       "      <td>5</td>\n",
       "      <td>4</td>\n",
       "      <td>3</td>\n",
       "      <td>155</td>\n",
       "      <td>12</td>\n",
       "      <td>14</td>\n",
       "      <td>34</td>\n",
       "      <td>237.656</td>\n",
       "      <td>...</td>\n",
       "      <td>0</td>\n",
       "      <td>1</td>\n",
       "      <td>2</td>\n",
       "      <td>1</td>\n",
       "      <td>0</td>\n",
       "      <td>0</td>\n",
       "      <td>95</td>\n",
       "      <td>196</td>\n",
       "      <td>25</td>\n",
       "      <td>2</td>\n",
       "    </tr>\n",
       "    <tr>\n",
       "      <th>731</th>\n",
       "      <td>34</td>\n",
       "      <td>23</td>\n",
       "      <td>7</td>\n",
       "      <td>4</td>\n",
       "      <td>1</td>\n",
       "      <td>118</td>\n",
       "      <td>10</td>\n",
       "      <td>10</td>\n",
       "      <td>37</td>\n",
       "      <td>264.604</td>\n",
       "      <td>...</td>\n",
       "      <td>0</td>\n",
       "      <td>1</td>\n",
       "      <td>0</td>\n",
       "      <td>0</td>\n",
       "      <td>0</td>\n",
       "      <td>0</td>\n",
       "      <td>83</td>\n",
       "      <td>172</td>\n",
       "      <td>28</td>\n",
       "      <td>2</td>\n",
       "    </tr>\n",
       "  </tbody>\n",
       "</table>\n",
       "<p>149 rows × 21 columns</p>\n",
       "</div>"
      ],
      "text/plain": [
       "     ID  Reason for absence  Month of absence  Day of the week  Seasons  \\\n",
       "2     3                  23                 7                4        1   \n",
       "4    11                  23                 7                5        1   \n",
       "5     3                  23                 7                6        1   \n",
       "7    20                  23                 7                6        1   \n",
       "14    3                  23                 7                4        1   \n",
       "..   ..                 ...               ...              ...      ...   \n",
       "663  10                  23                 4                3        3   \n",
       "685  36                  23                 5                2        3   \n",
       "698  25                  23                 5                5        3   \n",
       "702  14                  23                 5                4        3   \n",
       "731  34                  23                 7                4        1   \n",
       "\n",
       "     Transportation expense  Distance from Residence to Work  Service time  \\\n",
       "2                       179                               51            18   \n",
       "4                       289                               36            13   \n",
       "5                       179                               51            18   \n",
       "7                       260                               50            11   \n",
       "14                      179                               51            18   \n",
       "..                      ...                              ...           ...   \n",
       "663                     361                               52             3   \n",
       "685                     118                               13            18   \n",
       "698                     235                               16             8   \n",
       "702                     155                               12            14   \n",
       "731                     118                               10            10   \n",
       "\n",
       "     Age  Work load Average/day   ...  Disciplinary failure  Education  Son  \\\n",
       "2     38                 239.554  ...                     0          1    0   \n",
       "4     33                 239.554  ...                     0          1    2   \n",
       "5     38                 239.554  ...                     0          1    0   \n",
       "7     36                 239.554  ...                     0          1    4   \n",
       "14    38                 239.554  ...                     0          1    0   \n",
       "..   ...                     ...  ...                   ...        ...  ...   \n",
       "663   28                 246.288  ...                     0          1    1   \n",
       "685   50                 237.656  ...                     0          1    1   \n",
       "698   32                 237.656  ...                     0          3    0   \n",
       "702   34                 237.656  ...                     0          1    2   \n",
       "731   37                 264.604  ...                     0          1    0   \n",
       "\n",
       "     Social drinker  Social smoker  Pet  Weight  Height  Body mass index  \\\n",
       "2                 1              0    0      89     170               31   \n",
       "4                 1              0    1      90     172               30   \n",
       "5                 1              0    0      89     170               31   \n",
       "7                 1              0    0      65     168               23   \n",
       "14                1              0    0      89     170               31   \n",
       "..              ...            ...  ...     ...     ...              ...   \n",
       "663               1              0    4      80     172               27   \n",
       "685               1              0    0      98     178               31   \n",
       "698               0              0    0      75     178               25   \n",
       "702               1              0    0      95     196               25   \n",
       "731               0              0    0      83     172               28   \n",
       "\n",
       "     Absenteeism time in hours  \n",
       "2                            2  \n",
       "4                            2  \n",
       "5                            2  \n",
       "7                            4  \n",
       "14                           4  \n",
       "..                         ...  \n",
       "663                          2  \n",
       "685                          2  \n",
       "698                          2  \n",
       "702                          2  \n",
       "731                          2  \n",
       "\n",
       "[149 rows x 21 columns]"
      ]
     },
     "execution_count": 160,
     "metadata": {},
     "output_type": "execute_result"
    }
   ],
   "source": [
    "topreason = absent_data[absent_data['Reason for absence'] == 23]\n",
    "topreason"
   ]
  },
  {
   "cell_type": "code",
   "execution_count": 168,
   "id": "b342be0c",
   "metadata": {},
   "outputs": [
    {
     "data": {
      "text/html": [
       "<div>\n",
       "<style scoped>\n",
       "    .dataframe tbody tr th:only-of-type {\n",
       "        vertical-align: middle;\n",
       "    }\n",
       "\n",
       "    .dataframe tbody tr th {\n",
       "        vertical-align: top;\n",
       "    }\n",
       "\n",
       "    .dataframe thead th {\n",
       "        text-align: right;\n",
       "    }\n",
       "</style>\n",
       "<table border=\"1\" class=\"dataframe\">\n",
       "  <thead>\n",
       "    <tr style=\"text-align: right;\">\n",
       "      <th></th>\n",
       "      <th>index</th>\n",
       "      <th>ID</th>\n",
       "      <th>Reason for absence</th>\n",
       "      <th>Month of absence</th>\n",
       "      <th>Day of the week</th>\n",
       "      <th>Seasons</th>\n",
       "      <th>Transportation expense</th>\n",
       "      <th>Distance from Residence to Work</th>\n",
       "      <th>Service time</th>\n",
       "      <th>Age</th>\n",
       "      <th>...</th>\n",
       "      <th>Disciplinary failure</th>\n",
       "      <th>Education</th>\n",
       "      <th>Son</th>\n",
       "      <th>Social drinker</th>\n",
       "      <th>Social smoker</th>\n",
       "      <th>Pet</th>\n",
       "      <th>Weight</th>\n",
       "      <th>Height</th>\n",
       "      <th>Body mass index</th>\n",
       "      <th>Absenteeism time in hours</th>\n",
       "    </tr>\n",
       "  </thead>\n",
       "  <tbody>\n",
       "    <tr>\n",
       "      <th>0</th>\n",
       "      <td>2</td>\n",
       "      <td>3</td>\n",
       "      <td>23</td>\n",
       "      <td>7</td>\n",
       "      <td>4</td>\n",
       "      <td>1</td>\n",
       "      <td>179</td>\n",
       "      <td>51</td>\n",
       "      <td>18</td>\n",
       "      <td>38</td>\n",
       "      <td>...</td>\n",
       "      <td>0</td>\n",
       "      <td>1</td>\n",
       "      <td>0</td>\n",
       "      <td>1</td>\n",
       "      <td>0</td>\n",
       "      <td>0</td>\n",
       "      <td>89</td>\n",
       "      <td>170</td>\n",
       "      <td>31</td>\n",
       "      <td>2</td>\n",
       "    </tr>\n",
       "    <tr>\n",
       "      <th>1</th>\n",
       "      <td>4</td>\n",
       "      <td>11</td>\n",
       "      <td>23</td>\n",
       "      <td>7</td>\n",
       "      <td>5</td>\n",
       "      <td>1</td>\n",
       "      <td>289</td>\n",
       "      <td>36</td>\n",
       "      <td>13</td>\n",
       "      <td>33</td>\n",
       "      <td>...</td>\n",
       "      <td>0</td>\n",
       "      <td>1</td>\n",
       "      <td>2</td>\n",
       "      <td>1</td>\n",
       "      <td>0</td>\n",
       "      <td>1</td>\n",
       "      <td>90</td>\n",
       "      <td>172</td>\n",
       "      <td>30</td>\n",
       "      <td>2</td>\n",
       "    </tr>\n",
       "    <tr>\n",
       "      <th>2</th>\n",
       "      <td>5</td>\n",
       "      <td>3</td>\n",
       "      <td>23</td>\n",
       "      <td>7</td>\n",
       "      <td>6</td>\n",
       "      <td>1</td>\n",
       "      <td>179</td>\n",
       "      <td>51</td>\n",
       "      <td>18</td>\n",
       "      <td>38</td>\n",
       "      <td>...</td>\n",
       "      <td>0</td>\n",
       "      <td>1</td>\n",
       "      <td>0</td>\n",
       "      <td>1</td>\n",
       "      <td>0</td>\n",
       "      <td>0</td>\n",
       "      <td>89</td>\n",
       "      <td>170</td>\n",
       "      <td>31</td>\n",
       "      <td>2</td>\n",
       "    </tr>\n",
       "    <tr>\n",
       "      <th>3</th>\n",
       "      <td>7</td>\n",
       "      <td>20</td>\n",
       "      <td>23</td>\n",
       "      <td>7</td>\n",
       "      <td>6</td>\n",
       "      <td>1</td>\n",
       "      <td>260</td>\n",
       "      <td>50</td>\n",
       "      <td>11</td>\n",
       "      <td>36</td>\n",
       "      <td>...</td>\n",
       "      <td>0</td>\n",
       "      <td>1</td>\n",
       "      <td>4</td>\n",
       "      <td>1</td>\n",
       "      <td>0</td>\n",
       "      <td>0</td>\n",
       "      <td>65</td>\n",
       "      <td>168</td>\n",
       "      <td>23</td>\n",
       "      <td>4</td>\n",
       "    </tr>\n",
       "    <tr>\n",
       "      <th>4</th>\n",
       "      <td>14</td>\n",
       "      <td>3</td>\n",
       "      <td>23</td>\n",
       "      <td>7</td>\n",
       "      <td>4</td>\n",
       "      <td>1</td>\n",
       "      <td>179</td>\n",
       "      <td>51</td>\n",
       "      <td>18</td>\n",
       "      <td>38</td>\n",
       "      <td>...</td>\n",
       "      <td>0</td>\n",
       "      <td>1</td>\n",
       "      <td>0</td>\n",
       "      <td>1</td>\n",
       "      <td>0</td>\n",
       "      <td>0</td>\n",
       "      <td>89</td>\n",
       "      <td>170</td>\n",
       "      <td>31</td>\n",
       "      <td>4</td>\n",
       "    </tr>\n",
       "    <tr>\n",
       "      <th>...</th>\n",
       "      <td>...</td>\n",
       "      <td>...</td>\n",
       "      <td>...</td>\n",
       "      <td>...</td>\n",
       "      <td>...</td>\n",
       "      <td>...</td>\n",
       "      <td>...</td>\n",
       "      <td>...</td>\n",
       "      <td>...</td>\n",
       "      <td>...</td>\n",
       "      <td>...</td>\n",
       "      <td>...</td>\n",
       "      <td>...</td>\n",
       "      <td>...</td>\n",
       "      <td>...</td>\n",
       "      <td>...</td>\n",
       "      <td>...</td>\n",
       "      <td>...</td>\n",
       "      <td>...</td>\n",
       "      <td>...</td>\n",
       "      <td>...</td>\n",
       "    </tr>\n",
       "    <tr>\n",
       "      <th>144</th>\n",
       "      <td>663</td>\n",
       "      <td>10</td>\n",
       "      <td>23</td>\n",
       "      <td>4</td>\n",
       "      <td>3</td>\n",
       "      <td>3</td>\n",
       "      <td>361</td>\n",
       "      <td>52</td>\n",
       "      <td>3</td>\n",
       "      <td>28</td>\n",
       "      <td>...</td>\n",
       "      <td>0</td>\n",
       "      <td>1</td>\n",
       "      <td>1</td>\n",
       "      <td>1</td>\n",
       "      <td>0</td>\n",
       "      <td>4</td>\n",
       "      <td>80</td>\n",
       "      <td>172</td>\n",
       "      <td>27</td>\n",
       "      <td>2</td>\n",
       "    </tr>\n",
       "    <tr>\n",
       "      <th>145</th>\n",
       "      <td>685</td>\n",
       "      <td>36</td>\n",
       "      <td>23</td>\n",
       "      <td>5</td>\n",
       "      <td>2</td>\n",
       "      <td>3</td>\n",
       "      <td>118</td>\n",
       "      <td>13</td>\n",
       "      <td>18</td>\n",
       "      <td>50</td>\n",
       "      <td>...</td>\n",
       "      <td>0</td>\n",
       "      <td>1</td>\n",
       "      <td>1</td>\n",
       "      <td>1</td>\n",
       "      <td>0</td>\n",
       "      <td>0</td>\n",
       "      <td>98</td>\n",
       "      <td>178</td>\n",
       "      <td>31</td>\n",
       "      <td>2</td>\n",
       "    </tr>\n",
       "    <tr>\n",
       "      <th>146</th>\n",
       "      <td>698</td>\n",
       "      <td>25</td>\n",
       "      <td>23</td>\n",
       "      <td>5</td>\n",
       "      <td>5</td>\n",
       "      <td>3</td>\n",
       "      <td>235</td>\n",
       "      <td>16</td>\n",
       "      <td>8</td>\n",
       "      <td>32</td>\n",
       "      <td>...</td>\n",
       "      <td>0</td>\n",
       "      <td>3</td>\n",
       "      <td>0</td>\n",
       "      <td>0</td>\n",
       "      <td>0</td>\n",
       "      <td>0</td>\n",
       "      <td>75</td>\n",
       "      <td>178</td>\n",
       "      <td>25</td>\n",
       "      <td>2</td>\n",
       "    </tr>\n",
       "    <tr>\n",
       "      <th>147</th>\n",
       "      <td>702</td>\n",
       "      <td>14</td>\n",
       "      <td>23</td>\n",
       "      <td>5</td>\n",
       "      <td>4</td>\n",
       "      <td>3</td>\n",
       "      <td>155</td>\n",
       "      <td>12</td>\n",
       "      <td>14</td>\n",
       "      <td>34</td>\n",
       "      <td>...</td>\n",
       "      <td>0</td>\n",
       "      <td>1</td>\n",
       "      <td>2</td>\n",
       "      <td>1</td>\n",
       "      <td>0</td>\n",
       "      <td>0</td>\n",
       "      <td>95</td>\n",
       "      <td>196</td>\n",
       "      <td>25</td>\n",
       "      <td>2</td>\n",
       "    </tr>\n",
       "    <tr>\n",
       "      <th>148</th>\n",
       "      <td>731</td>\n",
       "      <td>34</td>\n",
       "      <td>23</td>\n",
       "      <td>7</td>\n",
       "      <td>4</td>\n",
       "      <td>1</td>\n",
       "      <td>118</td>\n",
       "      <td>10</td>\n",
       "      <td>10</td>\n",
       "      <td>37</td>\n",
       "      <td>...</td>\n",
       "      <td>0</td>\n",
       "      <td>1</td>\n",
       "      <td>0</td>\n",
       "      <td>0</td>\n",
       "      <td>0</td>\n",
       "      <td>0</td>\n",
       "      <td>83</td>\n",
       "      <td>172</td>\n",
       "      <td>28</td>\n",
       "      <td>2</td>\n",
       "    </tr>\n",
       "  </tbody>\n",
       "</table>\n",
       "<p>149 rows × 22 columns</p>\n",
       "</div>"
      ],
      "text/plain": [
       "     index  ID  Reason for absence  Month of absence  Day of the week  \\\n",
       "0        2   3                  23                 7                4   \n",
       "1        4  11                  23                 7                5   \n",
       "2        5   3                  23                 7                6   \n",
       "3        7  20                  23                 7                6   \n",
       "4       14   3                  23                 7                4   \n",
       "..     ...  ..                 ...               ...              ...   \n",
       "144    663  10                  23                 4                3   \n",
       "145    685  36                  23                 5                2   \n",
       "146    698  25                  23                 5                5   \n",
       "147    702  14                  23                 5                4   \n",
       "148    731  34                  23                 7                4   \n",
       "\n",
       "     Seasons  Transportation expense  Distance from Residence to Work  \\\n",
       "0          1                     179                               51   \n",
       "1          1                     289                               36   \n",
       "2          1                     179                               51   \n",
       "3          1                     260                               50   \n",
       "4          1                     179                               51   \n",
       "..       ...                     ...                              ...   \n",
       "144        3                     361                               52   \n",
       "145        3                     118                               13   \n",
       "146        3                     235                               16   \n",
       "147        3                     155                               12   \n",
       "148        1                     118                               10   \n",
       "\n",
       "     Service time  Age  ...  Disciplinary failure  Education  Son  \\\n",
       "0              18   38  ...                     0          1    0   \n",
       "1              13   33  ...                     0          1    2   \n",
       "2              18   38  ...                     0          1    0   \n",
       "3              11   36  ...                     0          1    4   \n",
       "4              18   38  ...                     0          1    0   \n",
       "..            ...  ...  ...                   ...        ...  ...   \n",
       "144             3   28  ...                     0          1    1   \n",
       "145            18   50  ...                     0          1    1   \n",
       "146             8   32  ...                     0          3    0   \n",
       "147            14   34  ...                     0          1    2   \n",
       "148            10   37  ...                     0          1    0   \n",
       "\n",
       "     Social drinker  Social smoker  Pet  Weight  Height  Body mass index  \\\n",
       "0                 1              0    0      89     170               31   \n",
       "1                 1              0    1      90     172               30   \n",
       "2                 1              0    0      89     170               31   \n",
       "3                 1              0    0      65     168               23   \n",
       "4                 1              0    0      89     170               31   \n",
       "..              ...            ...  ...     ...     ...              ...   \n",
       "144               1              0    4      80     172               27   \n",
       "145               1              0    0      98     178               31   \n",
       "146               0              0    0      75     178               25   \n",
       "147               1              0    0      95     196               25   \n",
       "148               0              0    0      83     172               28   \n",
       "\n",
       "     Absenteeism time in hours  \n",
       "0                            2  \n",
       "1                            2  \n",
       "2                            2  \n",
       "3                            4  \n",
       "4                            4  \n",
       "..                         ...  \n",
       "144                          2  \n",
       "145                          2  \n",
       "146                          2  \n",
       "147                          2  \n",
       "148                          2  \n",
       "\n",
       "[149 rows x 22 columns]"
      ]
     },
     "execution_count": 168,
     "metadata": {},
     "output_type": "execute_result"
    }
   ],
   "source": [
    "topreason.reset_index(inplace=True)\n",
    "topreason"
   ]
  },
  {
   "cell_type": "code",
   "execution_count": 176,
   "id": "7018bf1b",
   "metadata": {},
   "outputs": [
    {
     "data": {
      "text/plain": [
       "3    37\n",
       "4    33\n",
       "5    30\n",
       "6    27\n",
       "2    22\n",
       "Name: Day of the week, dtype: int64"
      ]
     },
     "execution_count": 176,
     "metadata": {},
     "output_type": "execute_result"
    }
   ],
   "source": [
    "reasoncounts = topreason['Day of the week'].value_counts()\n",
    "reasoncounts"
   ]
  },
  {
   "cell_type": "code",
   "execution_count": 180,
   "id": "4b7b44f0",
   "metadata": {},
   "outputs": [],
   "source": [
    "counts = [22,37,33,30,27]\n",
    "dayofweek = [2,3,4,5,6]"
   ]
  },
  {
   "cell_type": "code",
   "execution_count": 184,
   "id": "92558844",
   "metadata": {},
   "outputs": [
    {
     "data": {
      "image/png": "[encoded data removed]",
      "text/plain": [
       "<Figure size 432x288 with 1 Axes>"
      ]
     },
     "metadata": {
      "needs_background": "light"
     },
     "output_type": "display_data"
    }
   ],
   "source": [
    "plt.bar(dayofweek, counts)\n",
    "plt.xlabel('Day of the week')\n",
    "plt.ylabel('Number of absences')\n",
    "plt.title('Absences per day for reason 23')\n",
    "plt.show()"
   ]
  },
  {
   "cell_type": "markdown",
   "id": "1a0f5bfe",
   "metadata": {},
   "source": [
    "#### 2. Month of absence and age"
   ]
  },
  {
   "cell_type": "code",
   "execution_count": 117,
   "id": "40977738",
   "metadata": {},
   "outputs": [
    {
     "data": {
      "image/png": "[encoded data removed]",
      "text/plain": [
       "<Figure size 432x288 with 1 Axes>"
      ]
     },
     "metadata": {
      "needs_background": "light"
     },
     "output_type": "display_data"
    }
   ],
   "source": [
    "absent_data.plot.line(x='Month of absence', y='Age')\n",
    "plt.ylabel('Age')\n",
    "plt.title('Month of absence by age')\n",
    "plt.show()"
   ]
  },
  {
   "cell_type": "markdown",
   "id": "14971dff",
   "metadata": {},
   "source": [
    "#### 3. Hit target and disciplinary failure"
   ]
  },
  {
   "cell_type": "code",
   "execution_count": 106,
   "id": "19b0569a",
   "metadata": {},
   "outputs": [
    {
     "data": {
      "image/png": "[encoded data removed]",
      "text/plain": [
       "<Figure size 432x288 with 1 Axes>"
      ]
     },
     "metadata": {
      "needs_background": "light"
     },
     "output_type": "display_data"
    }
   ],
   "source": [
    "absent_data.plot.scatter(x='Disciplinary failure', y='Hit target')\n",
    "plt.show()"
   ]
  },
  {
   "cell_type": "markdown",
   "id": "1c62bac2",
   "metadata": {},
   "source": [
    "#### 4. Service time and reason for absence"
   ]
  },
  {
   "cell_type": "code",
   "execution_count": 105,
   "id": "5d5ea8b6",
   "metadata": {},
   "outputs": [
    {
     "data": {
      "image/png": "[encoded data removed]",
      "text/plain": [
       "<Figure size 432x288 with 1 Axes>"
      ]
     },
     "metadata": {
      "needs_background": "light"
     },
     "output_type": "display_data"
    }
   ],
   "source": [
    "absent_data.plot.scatter(x='Service time', y='Reason for absence')\n",
    "plt.show()"
   ]
  },
  {
   "cell_type": "markdown",
   "id": "09863521",
   "metadata": {},
   "source": [
    "#### 5. Transportation expense and distance from residence to work"
   ]
  },
  {
   "cell_type": "code",
   "execution_count": 104,
   "id": "5963367d",
   "metadata": {},
   "outputs": [
    {
     "data": {
      "image/png": "[encoded data removed]",
      "text/plain": [
       "<Figure size 432x288 with 1 Axes>"
      ]
     },
     "metadata": {
      "needs_background": "light"
     },
     "output_type": "display_data"
    }
   ],
   "source": [
    "absent_data.plot.scatter(x='Transportation expense', y='Distance from Residence to Work')\n",
    "plt.show()"
   ]
  },
  {
   "cell_type": "markdown",
   "id": "94071cac",
   "metadata": {},
   "source": [
    "#### 6. Age and pet"
   ]
  },
  {
   "cell_type": "code",
   "execution_count": 108,
   "id": "3ea9f79e",
   "metadata": {},
   "outputs": [
    {
     "data": {
      "image/png": "[encoded data removed]",
      "text/plain": [
       "<Figure size 432x288 with 1 Axes>"
      ]
     },
     "metadata": {
      "needs_background": "light"
     },
     "output_type": "display_data"
    }
   ],
   "source": [
    "absent_data.plot.scatter(x='Age', y='Pet')\n",
    "plt.show()"
   ]
  },
  {
   "cell_type": "markdown",
   "id": "2dafee2f",
   "metadata": {},
   "source": [
    "#### 7. Absenteeism time in hours and day of the week "
   ]
  },
  {
   "cell_type": "code",
   "execution_count": 111,
   "id": "e7d23d84",
   "metadata": {},
   "outputs": [
    {
     "data": {
      "image/png": "[encoded data removed]",
      "text/plain": [
       "<Figure size 432x288 with 1 Axes>"
      ]
     },
     "metadata": {
      "needs_background": "light"
     },
     "output_type": "display_data"
    }
   ],
   "source": [
    "absent_data.plot.scatter(x='Day of the week', y='Absenteeism time in hours')\n",
    "plt.show()"
   ]
  },
  {
   "cell_type": "markdown",
   "id": "937b43ef",
   "metadata": {},
   "source": [
    "#### 8. Month of absence and absenteeism time in hours"
   ]
  },
  {
   "cell_type": "code",
   "execution_count": 114,
   "id": "d5c11d7e",
   "metadata": {},
   "outputs": [
    {
     "data": {
      "image/png": "[encoded data removed]",
      "text/plain": [
       "<Figure size 432x288 with 1 Axes>"
      ]
     },
     "metadata": {
      "needs_background": "light"
     },
     "output_type": "display_data"
    }
   ],
   "source": [
    "absent_data.plot.scatter(x='Month of absence', y='Absenteeism time in hours')\n",
    "plt.show()"
   ]
  },
  {
   "cell_type": "markdown",
   "id": "92953bf7",
   "metadata": {},
   "source": [
    "#### 9. Body mass index and height"
   ]
  },
  {
   "cell_type": "code",
   "execution_count": 115,
   "id": "59b7892d",
   "metadata": {},
   "outputs": [
    {
     "data": {
      "image/png": "[encoded data removed]",
      "text/plain": [
       "<Figure size 432x288 with 1 Axes>"
      ]
     },
     "metadata": {
      "needs_background": "light"
     },
     "output_type": "display_data"
    }
   ],
   "source": [
    "absent_data.plot.scatter(x='Body mass index', y='Height')\n",
    "plt.show()"
   ]
  },
  {
   "cell_type": "markdown",
   "id": "b509864e",
   "metadata": {},
   "source": [
    "#### 10. Pet and disciplinary failure"
   ]
  },
  {
   "cell_type": "code",
   "execution_count": 116,
   "id": "19c866bf",
   "metadata": {},
   "outputs": [
    {
     "data": {
      "image/png": "[encoded data removed]",
      "text/plain": [
       "<Figure size 432x288 with 1 Axes>"
      ]
     },
     "metadata": {
      "needs_background": "light"
     },
     "output_type": "display_data"
    }
   ],
   "source": [
    "absent_data.plot.scatter(x='Disciplinary failure', y='Pet')\n",
    "plt.show()"
   ]
  }
 ],
 "metadata": {
  "kernelspec": {
   "display_name": "Python 3 (ipykernel)",
   "language": "python",
   "name": "python3"
  },
  "language_info": {
   "codemirror_mode": {
    "name": "ipython",
    "version": 3
   },
   "file_extension": ".py",
   "mimetype": "text/x-python",
   "name": "python",
   "nbconvert_exporter": "python",
   "pygments_lexer": "ipython3",
   "version": "3.10.1"
  }
 },
 "nbformat": 4,
 "nbformat_minor": 5
}
